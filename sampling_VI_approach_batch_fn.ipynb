{
 "cells": [
  {
   "cell_type": "code",
   "execution_count": 1,
   "id": "cd33582f-04c5-47d5-a043-6ccdb166c22e",
   "metadata": {},
   "outputs": [
    {
     "name": "stdout",
     "output_type": "stream",
     "text": [
      "Running on PyMC3 v3.9.3\n"
     ]
    }
   ],
   "source": [
    "import numpy as np\n",
    "import matplotlib.pyplot as plt\n",
    "import scipy.stats as st\n",
    "import pymc3 as pm\n",
    "import arviz as az\n",
    "import pandas as pd\n",
    "import scipy.linalg as sp\n",
    "import seaborn as sns\n",
    "print('Running on PyMC3 v{}'.format(pm.__version__))\n",
    "import theano\n",
    "from sklearn.model_selection import train_test_split\n",
    "import shelve\n",
    "import warnings\n",
    "\n",
    "%matplotlib inline\n",
    "sns.set()\n",
    "warnings.filterwarnings('ignore')"
   ]
  },
  {
   "cell_type": "code",
   "execution_count": 153,
   "id": "5479dee0-826a-4741-a8a9-e2bfa61b19fa",
   "metadata": {},
   "outputs": [],
   "source": [
    "#define function for nuts and advi trace plots\n",
    "def nuts_advi(X, y, ofp, y_dist, opt, test_size=0.33):\n",
    "    \n",
    "    k = X.shape[1]\n",
    "    X_train, X_test, y_train, y_test = train_test_split(X, y, test_size=test_size, random_state=42)\n",
    "    y_tensor = theano.shared(y_train.astype('float64'))\n",
    "    X_tensor = theano.shared(X_train.astype('float64'))\n",
    "\n",
    "    with pm.Model() as base_model:\n",
    "\n",
    "        # Gumbel distribution \n",
    "        # Intercept term\n",
    "        β0 = pm.Normal('β0', mu=0, sd=1e5)\n",
    "\n",
    "        # Beta coefficients for predictor variables\n",
    "        β = pm.MvNormal('β', mu=np.zeros(k), cov=np.eye(k), shape=k)\n",
    "\n",
    "        # Calcuate mean from the normal variables, and add intercept\n",
    "        mu = pm.math.dot(X_tensor,β) + β0\n",
    "        beta = pm.HalfCauchy('beta', 1e5)\n",
    "\n",
    "        # Pass the mu and beta with the observed data\n",
    "        if y_dist == 'Gumbel':\n",
    "            y_likelihood = pm.Gumbel('fMSE', mu=mu, beta=beta, observed=y_tensor)\n",
    "        elif y_dist == 'Lognormal':\n",
    "            y_likelihood = pm.Lognormal('fMSE', mu=mu, sigma=beta, observed=y_tensor)\n",
    "        #start = pm.find_MAP()\n",
    "\n",
    "    #pm.model_to_graphviz(base_model)\n",
    "    \n",
    "    if opt == 'nuts':\n",
    "        with base_model:\n",
    "        # Variational inference with ADVI optimization\n",
    "            step       = pm.NUTS(target_accept=0.95)\n",
    "            trace_nuts = pm.sample(draws=4000, step=step, tune=1000, cores=4)\n",
    "            idata_nuts = az.from_pymc3(trace_nuts)\n",
    "\n",
    "        filename = ofp + '_nuts.out'\n",
    "        my_shelf = shelve.open(filename, 'n')\n",
    "        my_shelf['base_model'] = base_model\n",
    "        my_shelf['trace_nuts'] = trace_nuts\n",
    "        my_shelf['idata_nuts'] = idata_nuts\n",
    "        my_shelf['X_tensor']   = X_tensor\n",
    "        my_shelf['y_tensor']   = y_tensor\n",
    "        my_shelf['X_train']    = X_train\n",
    "        my_shelf['y_train']    = y_train\n",
    "        my_shelf['X_test']     = X_test\n",
    "        my_shelf['y_test']     = y_test\n",
    "        my_shelf.close()\n",
    "        \n",
    "    elif opt == 'advi':\n",
    "        map_tensor_batch = {y_tensor: pm.Minibatch(y_train, 100), X_tensor: pm.Minibatch(X_train, 100)}\n",
    "        \n",
    "        with base_model:\n",
    "             fit_advi= pm.fit(method=pm.ADVI(), n=300000, more_replacements = map_tensor_batch)\n",
    "        \n",
    "        trace_advi = fit_advi.sample(10000)\n",
    "       \n",
    "        filename = ofp + '_advi.out'\n",
    "        my_shelf = shelve.open(filename, 'n')\n",
    "        my_shelf['base_model'] = base_model\n",
    "        my_shelf['fit_advi']   = fit_advi\n",
    "        my_shelf['trace_advi'] = trace_advi\n",
    "        my_shelf['X_tensor']   = X_tensor\n",
    "        my_shelf['y_tensor']   = y_tensor\n",
    "        my_shelf['X_train']    = X_train\n",
    "        my_shelf['y_train']    = y_train\n",
    "        my_shelf['X_test']     = X_test\n",
    "        my_shelf['y_test']     = y_test\n",
    "        my_shelf.close()\n",
    "\n",
    "def shelf_read(filename):\n",
    "\n",
    "    my_shelf = shelve.open(filename)\n",
    "    for key in my_shelf:\n",
    "        globals()[key]=my_shelf[key]\n",
    "    my_shelf.close()\n",
    "\n",
    "def trace_elbo_plot(trace_or_fit, opt):\n",
    "    if opt == 'trace':\n",
    "        pm.traceplot(trace_or_fit)\n",
    "    elif opt == 'summary':\n",
    "        pm.summary(trace_or_fit)\n",
    "    elif opt =='elbo':\n",
    "        elbo = pd.DataFrame(\n",
    "            {'log-ELBO': -np.log(fit_advi.hist),\n",
    "             'n': np.arange(fit_advi.hist.shape[0])})\n",
    "        _ = sns.lineplot(y='log-ELBO', x='n', data=elbo)\n",
    "    else:\n",
    "        print('trace, summary, or elbo keywords should be given')\n",
    "        \n",
    "def model_RMSE(y_tensor, X_tensor, y_test, X_test, y_dist):\n",
    "    y_tensor.set_value(y_test)\n",
    "    X_tensor.set_value(X_test)\n",
    "    k = X_test.shape[1]\n",
    "    with pm.Model() as base_model:\n",
    "\n",
    "            # Gumbel distribution \n",
    "            # Intercept term\n",
    "            β0 = pm.Normal('β0', mu=0, sd=1e5)\n",
    "\n",
    "            # Beta coefficients for predictor variables\n",
    "            β = pm.MvNormal('β', mu=np.zeros(k), cov=np.eye(k), shape=k)\n",
    "\n",
    "            # Calcuate mean from the normal variables, and add intercept\n",
    "            mu = pm.math.dot(X_tensor,β) + β0\n",
    "            beta = pm.HalfCauchy('beta', 1e5)\n",
    "\n",
    "            # Pass the mu and beta with the observed data\n",
    "            if y_dist == 'Gumbel':\n",
    "                y_likelihood = pm.Gumbel('fMSE', mu=mu, beta=beta, observed=y_tensor)\n",
    "            elif y_dist == 'Lognormal':\n",
    "                y_likelihood = pm.Lognormal('fMSE', mu=mu, sigma=beta, observed=y_tensor)\n",
    "            #start = pm.find_MAP()\n",
    "\n",
    "    advi_posterior_pred = pm.fast_sample_posterior_predictive(trace_advi, model=base_model)\n",
    "    advi_predictions = np.mean(advi_posterior_pred['fMSE'], axis=0)\n",
    "\n",
    "    RMSE = np.sqrt(np.mean((advi_predictions - y_test) ** 2))\n",
    "    \n",
    "    return RMSE\n",
    "\n",
    "def model_prediction(y_tensor, X_tensor, y_test, X_test, trace_nuts, trace_advi, dist):\n",
    "    y_tensor.set_value(y_test)\n",
    "    X_tensor.set_value(X_test)\n",
    "    k = X_test.shape[1]\n",
    "\n",
    "    with pm.Model() as base_model:\n",
    "\n",
    "            # Gumbel distribution \n",
    "            # Intercept term\n",
    "            β0 = pm.Normal('β0', mu=0, sd=1e5)\n",
    "\n",
    "            # Beta coefficients for predictor variables\n",
    "            β = pm.MvNormal('β', mu=np.zeros(k), cov=np.eye(k), shape=k)\n",
    "\n",
    "            # Calcuate mean from the normal variables, and add intercept\n",
    "            mu = pm.math.dot(X_tensor,β) + β0\n",
    "            beta = pm.HalfCauchy('beta', 1e5)\n",
    "\n",
    "            # Pass the mu and beta with the observed data\n",
    "            if y_dist == 'Gumbel':\n",
    "                y_likelihood = pm.Gumbel('fMSE', mu=mu, beta=beta, observed=y_tensor)\n",
    "            elif y_dist == 'Lognormal':\n",
    "                y_likelihood = pm.Lognormal('fMSE', mu=mu, sigma=beta, observed=y_tensor)\n",
    "\n",
    "    nuts_posterior_pred = pm.fast_sample_posterior_predictive(trace_nuts, model=base_model)\n",
    "    nuts_predictions = np.mean(nuts_posterior_pred['fMSE'], axis=0)\n",
    "    advi_posterior_pred = pm.fast_sample_posterior_predictive(trace_advi, model=base_model)\n",
    "    advi_predictions = np.mean(advi_posterior_pred['fMSE'], axis=0)\n",
    "    \n",
    "    prediction_data = pd.DataFrame(\n",
    "         {'NUTS': nuts_predictions,\n",
    "          'ADVI': advi_predictions,\n",
    "          'actual': y_test,\n",
    "          'error_ADVI': advi_predictions - y_test,\n",
    "          'error_NUTS': nuts_predictions - y_test}\n",
    "         )\n",
    "\n",
    "    RMSE_ADVI = np.sqrt(np.mean(prediction_data.error_ADVI ** 2))\n",
    "    RMSE_NUTS = np.sqrt(np.mean(prediction_data.error_NUTS ** 2))\n",
    "    \n",
    "    fig, (ax1, ax2, ax3) = plt.subplots(ncols=3, sharey=True)\n",
    "    sns.regplot(y='ADVI', x='NUTS', data=prediction_data,\n",
    "                   line_kws={'color': 'red', 'alpha': 0.5}, ax=ax1).set(title='ADVI vs NUTS', aspect=1)\n",
    "    sns.regplot(y='ADVI', x='actual', data = prediction_data, \n",
    "                   line_kws={'color': 'red', 'alpha': 0.5}, ax=ax2).set(title='ADVI: '+f'{RMSE_ADVI:.3f}', aspect=1)\n",
    "    sns.regplot(y='NUTS', x='actual', data = prediction_data,\n",
    "                   line_kws={'color': 'red', 'alpha': 0.5}, ax=ax3).set(title='NUTS: '+f'{RMSE_NUTS: 3f}', aspect=1)"
   ]
  },
  {
   "cell_type": "code",
   "execution_count": 3,
   "id": "6fe50831-609e-4824-b7b2-57ab2054c6b8",
   "metadata": {
    "tags": []
   },
   "outputs": [],
   "source": [
    "# 1 load the data sets\n",
    "pr_file   = \"/home/hyung/Lab/data/DL_Error/predictors.csv\"\n",
    "res_file  = \"/home/hyung/Lab/data/DL_Error/responses.csv\"\n",
    "pr_data   = pd.read_csv(pr_file)\n",
    "res_data  = pd.read_csv(res_file)\n",
    "\n",
    "# Rainf_f/Precip/SWdown_min have some issue because they are all zeros\n",
    "pr_data.drop(columns=['Rainf_min', 'Rainf_f_min', 'Rainf_f_max','Rainf_f_tavg', 'TotalPrecip_min'], inplace=True)\n",
    "pr_data.drop(columns=['Evap_min', 'Evap_max', 'Evap_tavg'], inplace=True)\n",
    "pr_data.drop(columns=['LWdown_f_max', 'LWdown_f_min', 'LWdown_f_tavg'], inplace=True)\n",
    "pr_data.drop(columns=['Qair_f_max',\t'Qair_f_min', 'Qh_max',\t'Qh_min'], inplace=True)\n",
    "pr_data.drop(columns=['Qle_min', 'Qle_max', 'Qle_tavg'], inplace=True)\n",
    "pr_data.drop(columns=['SWdown_f_min', 'SWdown_f_max', 'SWdown_f_tavg'], inplace=True)\n",
    "pr_data.drop(columns=['SMOS_RFI_min', 'SoilMoist_max', 'SoilMoist_min',\t'SoilMoist_tavg'], inplace=True)\n",
    "pr_data.drop(columns=['Tair_f_max', 'Tair_f_min', 'Tair_f_tavg', 'aspect'], inplace=True)\n",
    "pr_data.drop(columns=['Wind_f_max',\t'Wind_f_min', 'Wind_f_tavg'], inplace=True)"
   ]
  },
  {
   "cell_type": "code",
   "execution_count": 4,
   "id": "b4030dfa-f9e0-4871-9a5d-9933b86f8333",
   "metadata": {},
   "outputs": [],
   "source": [
    "# TC estimations with std value larger than 0.2 might be unstable\n",
    "std_thred     = 0.1\n",
    "mask_std_A2   = res_data['AMSR2_std'] <= std_thred\n",
    "mask_std_AS   = res_data['ASCAT_std'] <= std_thred\n",
    "mask_std_SMOS = res_data['SMOS_std'] <= std_thred\n",
    "mask_std_SMAP = res_data['SMAP_std'] <= std_thred"
   ]
  },
  {
   "cell_type": "code",
   "execution_count": 5,
   "id": "3062d314-e110-4aea-ad60-83a4482165c1",
   "metadata": {},
   "outputs": [],
   "source": [
    "# 2 clean the data sets\n",
    "selected_predictors = list(pr_data.columns.values)\n",
    "\n",
    "sel_A2   = selected_predictors.copy()\n",
    "sel_A2.append('AMSR2_fMSE')\n",
    "sel_AS   = selected_predictors.copy()\n",
    "sel_AS.append('ASCAT_fMSE')\n",
    "sel_SMOS = selected_predictors.copy()\n",
    "sel_SMOS.append('SMOS_fMSE')\n",
    "sel_SMAP = selected_predictors.copy()\n",
    "sel_SMAP.append('SMAP_fMSE')\n",
    "\n",
    "A2_fMSE   = pr_data.join(res_data['AMSR2_fMSE'])[sel_A2]\n",
    "AS_fMSE   = pr_data.join(res_data['ASCAT_fMSE'])[sel_AS]\n",
    "SMOS_fMSE = pr_data.join(res_data['SMOS_fMSE'])[sel_SMOS]\n",
    "SMAP_fMSE = pr_data.join(res_data['SMAP_fMSE'])[sel_SMAP]\n",
    "\n",
    "# select fMSE <= threshold\n",
    "A2_fMSE   = A2_fMSE[mask_std_A2]\n",
    "AS_fMSE   = AS_fMSE[mask_std_AS]\n",
    "SMOS_fMSE = SMOS_fMSE[mask_std_SMOS]\n",
    "SMAP_fMSE = SMAP_fMSE[mask_std_SMAP]\n",
    "                      \n",
    "# drop N/A\n",
    "A2_fMSE.dropna(axis=0, how='any', inplace=True)\n",
    "AS_fMSE.dropna(axis=0, how='any', inplace=True)\n",
    "SMOS_fMSE.dropna(axis=0, how='any', inplace=True)\n",
    "SMAP_fMSE.dropna(axis=0, how='any', inplace=True)\n",
    "\n",
    "# Numeric, categorical predictors and response, y`\n",
    "# AMSR2\n",
    "A2_num   = A2_fMSE.drop(columns=['ltype', 'AMSR2_fMSE'])\n",
    "A2_cat   = A2_fMSE['ltype']\n",
    "A2_y     = A2_fMSE['AMSR2_fMSE']\n",
    "# ASCAT\n",
    "AS_num   = AS_fMSE.drop(columns=['ltype', 'ASCAT_fMSE'])\n",
    "AS_cat   = AS_fMSE['ltype']\n",
    "AS_y     = AS_fMSE['ASCAT_fMSE']\n",
    "# SMOS\n",
    "SMOS_num = SMOS_fMSE.drop(columns=['ltype', 'SMOS_fMSE'])\n",
    "SMOS_cat = SMOS_fMSE['ltype']\n",
    "SMOS_y   = SMOS_fMSE['SMOS_fMSE']\n",
    "# SMAP\n",
    "SMAP_num = SMAP_fMSE.drop(columns=['ltype', 'SMAP_fMSE'])\n",
    "SMAP_cat = SMAP_fMSE['ltype']\n",
    "SMAP_y   = SMAP_fMSE['SMAP_fMSE']\n",
    "\n",
    "all_predictors = SMAP_num.columns.values\n",
    "\n",
    "# Standardize numeric/response columns, to mean 0 variance 1\n",
    "# AMSR2\n",
    "A2_mean       = A2_num.mean()\n",
    "A2_std        = A2_num.std()\n",
    "A2_num_scaled = np.array((A2_num - A2_mean) / A2_std)\n",
    "A2_y_mean     = A2_y.mean()\n",
    "A2_y_std      = A2_y.std()\n",
    "A2_y_scaled   = np.array((A2_y - A2_y_mean) / A2_y_std)\n",
    "# ASCAT\n",
    "AS_mean       = AS_num.mean()\n",
    "AS_std        = AS_num.std()\n",
    "AS_num_scaled = np.array((AS_num - AS_mean) / AS_std)\n",
    "AS_y_mean     = AS_y.mean()\n",
    "AS_y_std      = AS_y.std()\n",
    "AS_y_scaled   = np.array((AS_y - AS_y_mean) / AS_y_std)\n",
    "# SMOS\n",
    "SMOS_mean       = SMOS_num.mean()\n",
    "SMOS_std        = SMOS_num.std()\n",
    "SMOS_num_scaled = np.array((SMOS_num - SMOS_mean) / SMOS_std)\n",
    "SMOS_y_mean     = SMOS_y.mean()\n",
    "SMOS_y_std      = SMOS_y.std()\n",
    "SMOS_y_scaled   = np.array((SMOS_y - SMOS_y_mean) / SMOS_y_std)\n",
    "# SMAP\n",
    "SMAP_mean        = SMAP_num.mean()\n",
    "SMAP_std         = SMAP_num.std()\n",
    "SMAP_num_scaled  = np.array((SMAP_num - SMAP_mean) / SMAP_std)\n",
    "SMAP_y_mean      = SMAP_y.mean()\n",
    "SMAP_y_std       = SMAP_y.std()\n",
    "SMAP_y_scaled    = np.array((SMAP_y - SMAP_y_mean) / SMAP_y_std)\n",
    "\n",
    "# SKIP cat var for this time\n",
    "A2_X   = A2_num\n",
    "AS_X   = AS_num\n",
    "SMOS_X = SMOS_num\n",
    "SMAP_X = SMAP_num\n",
    "\n",
    "# No. of predictors\n",
    "A2_k   = A2_X.shape[1]\n",
    "AS_k   = AS_X.shape[1]\n",
    "SMOS_k = SMOS_X.shape[1]\n",
    "SMAP_k = SMAP_X.shape[1]"
   ]
  },
  {
   "cell_type": "code",
   "execution_count": null,
   "id": "5244a0e5-37d1-4710-9046-6c9c01faee10",
   "metadata": {},
   "outputs": [],
   "source": [
    "# run VI and Sampling (y with scaling)\n",
    "dist = 'Gumbel'\n",
    "test_size = 0.33\n",
    "ofp = '/home/hyung/Lab/libs/python/DL_Error_data/A2' \n",
    "nuts_advi(A2_num_scaled, A2_y_scaled, ofp, dist, 'advi', test_size)\n",
    "nuts_advi(A2_num_scaled, A2_y_scaled, ofp, dist, 'nuts', test_size)\n",
    "\n",
    "ofp = '/home/hyung/Lab/libs/python/DL_Error_data/AS' \n",
    "nuts_advi(AS_num_scaled, AS_y_scaled, ofp, dist, 'advi', test_size)\n",
    "nuts_advi(AS_num_scaled, AS_y_scaled, ofp, dist, 'nuts', test_size)\n",
    "\n",
    "ofp = '/home/hyung/Lab/libs/python/DL_Error_data/SMOS' \n",
    "nuts_advi(SMOS_num_scaled, SMOS_y_scaled, ofp, dist, 'advi', test_size)\n",
    "nuts_advi(SMOS_num_scaled, SMOS_y_scaled, ofp, dist, 'nuts', test_size)\n",
    "\n",
    "ofp = '/home/hyung/Lab/libs/python/DL_Error_data/SMAP' \n",
    "nuts_advi(SMAP_num_scaled, SMAP_y_scaled, ofp, dist, 'advi', test_size)\n",
    "nuts_advi(SMAP_num_scaled, SMAP_y_scaled, ofp, dist, 'nuts', test_size)"
   ]
  },
  {
   "cell_type": "code",
   "execution_count": 6,
   "id": "5d4adcc6-3f0d-4c3d-bf69-fdbdd7bbd150",
   "metadata": {},
   "outputs": [
    {
     "data": {
      "text/html": [
       "\n",
       "    <div>\n",
       "        <style>\n",
       "            /* Turns off some styling */\n",
       "            progress {\n",
       "                /* gets rid of default border in Firefox and Opera. */\n",
       "                border: none;\n",
       "                /* Needs to be in here for Safari polyfill so background images work as expected. */\n",
       "                background-size: auto;\n",
       "            }\n",
       "            .progress-bar-interrupted, .progress-bar-interrupted::-webkit-progress-bar {\n",
       "                background: #F44336;\n",
       "            }\n",
       "        </style>\n",
       "      <progress value='300000' class='' max='300000' style='width:300px; height:20px; vertical-align: middle;'></progress>\n",
       "      100.00% [300000/300000 00:32<00:00 Average Loss = 132.79]\n",
       "    </div>\n",
       "    "
      ],
      "text/plain": [
       "<IPython.core.display.HTML object>"
      ]
     },
     "metadata": {},
     "output_type": "display_data"
    },
    {
     "name": "stderr",
     "output_type": "stream",
     "text": [
      "Finished [100%]: Average Loss = 132.79\n",
      "Multiprocess sampling (4 chains in 4 jobs)\n",
      "NUTS: [beta, β, β0]\n"
     ]
    },
    {
     "data": {
      "text/html": [
       "\n",
       "    <div>\n",
       "        <style>\n",
       "            /* Turns off some styling */\n",
       "            progress {\n",
       "                /* gets rid of default border in Firefox and Opera. */\n",
       "                border: none;\n",
       "                /* Needs to be in here for Safari polyfill so background images work as expected. */\n",
       "                background-size: auto;\n",
       "            }\n",
       "            .progress-bar-interrupted, .progress-bar-interrupted::-webkit-progress-bar {\n",
       "                background: #F44336;\n",
       "            }\n",
       "        </style>\n",
       "      <progress value='20000' class='' max='20000' style='width:300px; height:20px; vertical-align: middle;'></progress>\n",
       "      100.00% [20000/20000 5:05:24<00:00 Sampling 4 chains, 0 divergences]\n",
       "    </div>\n",
       "    "
      ],
      "text/plain": [
       "<IPython.core.display.HTML object>"
      ]
     },
     "metadata": {},
     "output_type": "display_data"
    },
    {
     "name": "stderr",
     "output_type": "stream",
     "text": [
      "Sampling 4 chains for 1_000 tune and 4_000 draw iterations (4_000 + 16_000 draws total) took 18324 seconds.\n"
     ]
    }
   ],
   "source": [
    "# run VI and Sampling (y without scaling)\n",
    "dist = 'Gumbel'\n",
    "test_size = 0.33\n",
    "ofp = '/home/hyung/Lab/libs/python/DL_Error_data/A2_ywos' \n",
    "nuts_advi(A2_num_scaled, A2_y.values, ofp, dist, 'advi', test_size)\n",
    "nuts_advi(A2_num_scaled, A2_y.values, ofp, dist, 'nuts', test_size)\n",
    "\n",
    "ofp = '/home/hyung/Lab/libs/python/DL_Error_data/AS_ywos' \n",
    "nuts_advi(AS_num_scaled, AS_y.values, ofp, dist, 'advi', test_size)\n",
    "nuts_advi(AS_num_scaled, AS_y.values, ofp, dist, 'nuts', test_size)\n",
    "\n",
    "ofp = '/home/hyung/Lab/libs/python/DL_Error_data/SMOS_ywos' \n",
    "nuts_advi(SMOS_num_scaled, SMOS_y.values, ofp, dist, 'advi', test_size)\n",
    "nuts_advi(SMOS_num_scaled, SMOS_y.values, ofp, dist, 'nuts', test_size)\n",
    "\n",
    "ofp = '/home/hyung/Lab/libs/python/DL_Error_data/SMAP_ywos' \n",
    "nuts_advi(SMAP_num_scaled, SMAP_y.values, ofp, dist, 'advi', test_size)\n",
    "nuts_advi(SMAP_num_scaled, SMAP_y.values, ofp, dist, 'nuts', test_size)"
   ]
  },
  {
   "cell_type": "code",
   "execution_count": 219,
   "id": "8bc44176-2361-480b-9f8c-99959392822f",
   "metadata": {},
   "outputs": [],
   "source": [
    "filename = '/home/hyung/Lab/libs/python/DL_Error_data/SMAP_ywos_nuts.out'    \n",
    "shelf_read(filename)\n",
    "summary_nuts = pm.summary(trace_nuts)\n",
    "hdi_3  = summary_nuts['hdi_3%'][1:-1]\n",
    "hdi_97 = summary_nuts['hdi_97%'][1:-1]\n",
    "invalid_p_i = np.where((hdi_3 < 0) & (hdi_97 > 0))\n",
    "valid_p_i   = np.where(~((hdi_3<0) & (hdi_97 > 0)))"
   ]
  },
  {
   "cell_type": "code",
   "execution_count": 226,
   "id": "202fb8a3-b5c4-4043-96dd-0aec53dacac3",
   "metadata": {},
   "outputs": [],
   "source": [
    "top_sel = 10\n",
    "top_sel_i = np.argsort(np.abs(summary_nuts['mean'][1:-1].values[valid_p_i])) < top_sel\n",
    "top_sel_i = valid_p_i[0][top_sel_i]"
   ]
  },
  {
   "cell_type": "code",
   "execution_count": 202,
   "id": "d07d2eb6-e1c5-4b9c-a958-24f5b3348126",
   "metadata": {},
   "outputs": [],
   "source": [
    "SMAP_num_scaled_sel = np.squeeze(SMAP_num_scaled[:,valid_p_i])\n",
    "SMAP_num_scaled_topsel = np.squeeze(SMAP_num_scaled[:,top_sel_i])"
   ]
  },
  {
   "cell_type": "code",
   "execution_count": 203,
   "id": "3f803605-1205-4460-830c-43ae72d32f1a",
   "metadata": {
    "tags": []
   },
   "outputs": [
    {
     "data": {
      "text/html": [
       "\n",
       "    <div>\n",
       "        <style>\n",
       "            /* Turns off some styling */\n",
       "            progress {\n",
       "                /* gets rid of default border in Firefox and Opera. */\n",
       "                border: none;\n",
       "                /* Needs to be in here for Safari polyfill so background images work as expected. */\n",
       "                background-size: auto;\n",
       "            }\n",
       "            .progress-bar-interrupted, .progress-bar-interrupted::-webkit-progress-bar {\n",
       "                background: #F44336;\n",
       "            }\n",
       "        </style>\n",
       "      <progress value='300000' class='' max='300000' style='width:300px; height:20px; vertical-align: middle;'></progress>\n",
       "      100.00% [300000/300000 00:30<00:00 Average Loss = -13.734]\n",
       "    </div>\n",
       "    "
      ],
      "text/plain": [
       "<IPython.core.display.HTML object>"
      ]
     },
     "metadata": {},
     "output_type": "display_data"
    },
    {
     "name": "stderr",
     "output_type": "stream",
     "text": [
      "Finished [100%]: Average Loss = -13.744\n"
     ]
    }
   ],
   "source": [
    "ofp = '/home/hyung/Lab/libs/python/DL_Error_data/SMAP_ywos_topsel' \n",
    "nuts_advi(SMAP_num_scaled_topsel, SMAP_y.values, ofp, dist, 'advi', 0.7)\n",
    "#nuts_advi(SMAP_num_scaled_sel, SMAP_y.values, ofp, dist, 'nuts', 0.7)\n"
   ]
  },
  {
   "cell_type": "code",
   "execution_count": 204,
   "id": "ca17582e-a880-4f90-a49f-427ad6233a99",
   "metadata": {},
   "outputs": [
    {
     "name": "stdout",
     "output_type": "stream",
     "text": [
      "RMSE for the predictions = 0.139\n"
     ]
    }
   ],
   "source": [
    "filename = '/home/hyung/Lab/libs/python/DL_Error_data/SMAP_ywos_topsel_advi.out'    \n",
    "shelf_read(filename)\n",
    "RMSE = model_RMSE(y_tensor, X_tensor, y_test, X_test, y_dist)\n",
    "print(f'RMSE for the predictions = {RMSE:.3f}')"
   ]
  },
  {
   "cell_type": "code",
   "execution_count": 227,
   "id": "1de592c4-3e84-44f9-9761-951e485691be",
   "metadata": {},
   "outputs": [
    {
     "data": {
      "text/plain": [
       "array([ 0.059, -0.044, -0.205, -0.006, -0.02 , -0.027,  0.175, -0.025,\n",
       "        0.011, -0.005])"
      ]
     },
     "execution_count": 227,
     "metadata": {},
     "output_type": "execute_result"
    }
   ],
   "source": [
    "summary_nuts['mean'][1:-1].values[top_sel_i]"
   ]
  },
  {
   "cell_type": "code",
   "execution_count": 228,
   "id": "103185a6-0dc6-40ff-b3bb-06ac829cff20",
   "metadata": {},
   "outputs": [
    {
     "data": {
      "text/plain": [
       "array(['LAI_tavg', 'Qh_tavg', 'RadT_tavg', 'SMAP_rc_min', 'SoilTemp_max',\n",
       "       'SoilTemp_min', 'SoilTemp_tavg', 'albedo_max', 'albedo_std',\n",
       "       'irrfrac'], dtype=object)"
      ]
     },
     "execution_count": 228,
     "metadata": {},
     "output_type": "execute_result"
    }
   ],
   "source": [
    "all_predictors[top_sel_i]"
   ]
  },
  {
   "cell_type": "code",
   "execution_count": 255,
   "id": "aed9332e-0a32-4a07-b167-e84e7d8038bc",
   "metadata": {
    "tags": []
   },
   "outputs": [
    {
     "data": {
      "text/plain": [
       "(array([  1.,   0.,   4.,   5.,   4.,   7.,  14.,  21.,  36.,  42.,  77.,\n",
       "         93., 130., 184., 214., 301., 367., 484., 534., 661., 739., 868.,\n",
       "        941., 981., 957., 993., 940., 946., 920., 769., 690., 667., 541.,\n",
       "        412., 349., 301., 229., 177., 115.,  92.,  70.,  36.,  30.,  23.,\n",
       "         14.,  12.,   4.,   1.,   0.,   4.]),\n",
       " array([0.02803123, 0.02925283, 0.03047444, 0.03169604, 0.03291764,\n",
       "        0.03413925, 0.03536085, 0.03658246, 0.03780406, 0.03902566,\n",
       "        0.04024727, 0.04146887, 0.04269047, 0.04391208, 0.04513368,\n",
       "        0.04635528, 0.04757689, 0.04879849, 0.0500201 , 0.0512417 ,\n",
       "        0.0524633 , 0.05368491, 0.05490651, 0.05612811, 0.05734972,\n",
       "        0.05857132, 0.05979293, 0.06101453, 0.06223613, 0.06345774,\n",
       "        0.06467934, 0.06590094, 0.06712255, 0.06834415, 0.06956575,\n",
       "        0.07078736, 0.07200896, 0.07323057, 0.07445217, 0.07567377,\n",
       "        0.07689538, 0.07811698, 0.07933858, 0.08056019, 0.08178179,\n",
       "        0.0830034 , 0.084225  , 0.0854466 , 0.08666821, 0.08788981,\n",
       "        0.08911141]),\n",
       " <BarContainer object of 50 artists>)"
      ]
     },
     "execution_count": 255,
     "metadata": {},
     "output_type": "execute_result"
    },
    {
     "data": {
      "image/png": "[encoded data removed]",
      "text/plain": [
       "<Figure size 432x288 with 1 Axes>"
      ]
     },
     "metadata": {},
     "output_type": "display_data"
    }
   ],
   "source": [
    "plt.hist((trace_nuts['β'][:,top_sel_i[0]]), 50)"
   ]
  },
  {
   "cell_type": "code",
   "execution_count": 119,
   "id": "8225c862-d47f-411f-839a-75a9c12ec6eb",
   "metadata": {},
   "outputs": [
    {
     "data": {
      "text/plain": [
       "array(['Rainf_max', 'SMAP_rc_tavg', 'SMAP_vo_max', 'albedo_std'],\n",
       "      dtype=object)"
      ]
     },
     "execution_count": 119,
     "metadata": {},
     "output_type": "execute_result"
    }
   ],
   "source": [
    "filename = '/home/hyung/Lab/libs/python/DL_Error/SMOS_ywos_nuts.out'    \n",
    "shelf_read(filename)\n",
    "hdi_3  = pm.summary(trace_nuts)['hdi_3%'][1:-1]\n",
    "hdi_97 = pm.summary(trace_nuts)['hdi_97%'][1:-1]\n",
    "invalid_p_i = np.where((hdi_3 < 0) & (hdi_97 > 0))\n",
    "all_predictors[invalid_p_i]"
   ]
  },
  {
   "cell_type": "code",
   "execution_count": 24,
   "id": "17ca94a5-42b2-46c9-8b81-dee70ee127be",
   "metadata": {},
   "outputs": [
    {
     "name": "stdout",
     "output_type": "stream",
     "text": [
      "RMSE for the predictions = 0.128\n"
     ]
    }
   ],
   "source": [
    "RMSE = model_RMSE(y_tensor, X_tensor, y_test, X_test, y_dist)\n",
    "print(f'RMSE for the predictions = {RMSE:.3f}')"
   ]
  },
  {
   "cell_type": "code",
   "execution_count": 59,
   "id": "7bbc65f6-df7d-48f8-88de-b3ff177171a3",
   "metadata": {},
   "outputs": [
    {
     "data": {
      "image/png": "[encoded data removed]",
      "text/plain": [
       "<Figure size 432x288 with 3 Axes>"
      ]
     },
     "metadata": {},
     "output_type": "display_data"
    }
   ],
   "source": [
    "filename = '/home/hyung/Lab/libs/python/DL_Error/SMAP_nuts.out'\n",
    "shelf_read(filename)\n",
    "filename = '/home/hyung/Lab/libs/python/DL_Error/SMAP_advi.out'\n",
    "shelf_read(filename)\n",
    "model_prediction(y_tensor, X_tensor, y_test, X_test, trace_nuts, trace_advi, dist)"
   ]
  },
  {
   "cell_type": "code",
   "execution_count": 60,
   "id": "30f6f2c8-e2fd-45b4-884d-eb57e2bd59d3",
   "metadata": {},
   "outputs": [
    {
     "data": {
      "text/plain": [
       "array([<AxesSubplot:>], dtype=object)"
      ]
     },
     "execution_count": 60,
     "metadata": {},
     "output_type": "execute_result"
    },
    {
     "data": {
      "image/png": "[encoded data removed]",
      "text/plain": [
       "<Figure size 864x673.92 with 1 Axes>"
      ]
     },
     "metadata": {},
     "output_type": "display_data"
    }
   ],
   "source": [
    "az.plot_forest(trace_nuts, var_names=['β'], combined=True,\n",
    "               kind='ridgeplot', ridgeplot_quantiles=[0.16, 0.5, 0.84],\n",
    "               ridgeplot_truncate=False, hdi_prob=0.95,\n",
    "               ridgeplot_overlap=3, ridgeplot_alpha=0.5)"
   ]
  },
  {
   "cell_type": "code",
   "execution_count": 67,
   "id": "42665d20-a3ca-4864-bf16-948b0b9f015c",
   "metadata": {},
   "outputs": [
    {
     "data": {
      "text/plain": [
       "'RadT_min'"
      ]
     },
     "execution_count": 67,
     "metadata": {},
     "output_type": "execute_result"
    }
   ],
   "source": [
    "all_predictors[13]"
   ]
  },
  {
   "cell_type": "code",
   "execution_count": null,
   "id": "b1356e34-894d-46bf-964f-ec543b6a9e6c",
   "metadata": {},
   "outputs": [],
   "source": [
    "az.plot_ppc(az.from_pymc3(posterior_predictive=nuts_posterior_pred, model=base_model))"
   ]
  },
  {
   "cell_type": "code",
   "execution_count": null,
   "id": "f2faec74-548d-43f3-beca-d317dd9793ef",
   "metadata": {},
   "outputs": [],
   "source": [
    "az.plot_ppc(az.from_pymc3(posterior_predictive=advi_posterior_pred, model=base_model))"
   ]
  },
  {
   "cell_type": "code",
   "execution_count": null,
   "id": "b3e3bb4f-9a90-4a9e-af93-c118dedc249e",
   "metadata": {},
   "outputs": [],
   "source": [
    "param_samples_NUTS = pd.DataFrame(\n",
    "    {'β0': trace_sampling.get_values('β0')[:, ], \n",
    "     'β': trace_sampling.get_values('β')[:, 0]})\n",
    "\n",
    "_ = sns.scatterplot(x='β0', y='β', data=param_samples_NUTS).set_title('NUTS')"
   ]
  },
  {
   "cell_type": "code",
   "execution_count": null,
   "id": "6b0bfdd8-f44b-404d-8895-51e72803085c",
   "metadata": {},
   "outputs": [],
   "source": [
    "param_samples_ADVI = pd.DataFrame(\n",
    "    {'β0': advi_trace.get_values('β0')[:, ], \n",
    "     'β': advi_trace.get_values('β')[:, 0]})\n",
    "\n",
    "_ = sns.scatterplot(x='β0', y='β', data=param_samples_ADVI).set_title('ADVI')"
   ]
  },
  {
   "cell_type": "code",
   "execution_count": null,
   "id": "3802e603-8c41-462c-a2f3-995580b14935",
   "metadata": {},
   "outputs": [],
   "source": [
    "PPC_SAMPLES = 20000\n",
    "advi_trace  = advi_fit.sample(PPC_SAMPLES)\n",
    "\n",
    "# Forest Plots to show the distributions for each of the predictors\n",
    "#with advi_model:\n",
    "az.plot_forest(advi_trace, var_names=['β'], combined=True,\n",
    "               kind='ridgeplot', ridgeplot_quantiles=[0.16, 0.5, 0.84],\n",
    "               ridgeplot_truncate=False, hdi_prob=0.95,\n",
    "               ridgeplot_overlap=3, ridgeplot_alpha=0.5)\n",
    "\n",
    "with base_model:\n",
    "    idata_advi = az.from_pymc3(advi_trace)\n",
    "az.summary(idata_advi, round_to=4, var_names = ['β'])"
   ]
  },
  {
   "cell_type": "code",
   "execution_count": null,
   "id": "06b89a56-b978-4a7a-b84f-8c8d7422e0c2",
   "metadata": {},
   "outputs": [],
   "source": [
    "all_predictors"
   ]
  },
  {
   "cell_type": "code",
   "execution_count": null,
   "id": "8876bb91-2dcc-4137-bba2-f469c86f09ec",
   "metadata": {},
   "outputs": [],
   "source": [
    "np.where(all_predictors == 'RadT_max')"
   ]
  },
  {
   "cell_type": "code",
   "execution_count": null,
   "id": "59f3eff7-42c1-4fc0-a0c3-802dd59ec30b",
   "metadata": {},
   "outputs": [],
   "source": [
    "burnin = 100\n",
    "sample_intercept = test_trace['β0'][burnin:]\n",
    "sample_betas = test_trace['β'][burnin:]\n",
    "advi_intercept = advi_trace_test['β0']\n",
    "advi_betas = advi_trace_test['β']\n",
    "\n",
    "# Plot posteriors\n",
    "\n",
    "fig, axes = plt.subplots(nrows=2, ncols=2, figsize=(10, 4), dpi=150, constrained_layout=False)\n",
    "\n",
    "for ax, estimate_sampling, estimate_advi in zip(axes.ravel(),\n",
    "                               [sample_intercept] + [sample_betas[:,i] for i in range(k)],\n",
    "                               [advi_intercept] + [advi_betas[:,i] for i in range(k)]):\n",
    "    \n",
    "    pm.plot_posterior(estimate_sampling, ax=ax,point_estimate=None,  alpha=0.7)\n",
    "    pm.plot_posterior(estimate_advi, ax=ax, color='red', point_estimate=None, hdi_prob= 'hide', alpha=0.7)\n",
    "    \n",
    "    #ax.set_title(title, fontsize=12)\n",
    "\n",
    "    #ax.set_xlabel(xlabel, fontsize=12)\n",
    "\n",
    "plt.suptitle(\"Regression parameters\\nHMC sampling in blue\\nVariational inference in red\")\n",
    "plt.tight_layout()\n",
    "plt.subplots_adjust(top=0.75)\n",
    "plt.show()"
   ]
  },
  {
   "cell_type": "code",
   "execution_count": null,
   "id": "b9214327-2657-4e8f-82a7-06ec70101866",
   "metadata": {},
   "outputs": [],
   "source": [
    "all_predictors[37]"
   ]
  }
 ],
 "metadata": {
  "kernelspec": {
   "display_name": "Python 3",
   "language": "python",
   "name": "python3"
  },
  "language_info": {
   "codemirror_mode": {
    "name": "ipython",
    "version": 3
   },
   "file_extension": ".py",
   "mimetype": "text/x-python",
   "name": "python",
   "nbconvert_exporter": "python",
   "pygments_lexer": "ipython3",
   "version": "3.8.5"
  }
 },
 "nbformat": 4,
 "nbformat_minor": 5
}
