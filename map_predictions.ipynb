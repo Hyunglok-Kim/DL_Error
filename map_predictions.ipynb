{
 "cells": [
  {
   "cell_type": "code",
   "execution_count": 37,
   "id": "cd33582f-04c5-47d5-a043-6ccdb166c22e",
   "metadata": {},
   "outputs": [],
   "source": [
    "import numpy as np\n",
    "import pandas as pd\n",
    "#install lightgbm from conda first\n",
    "\n",
    "from lightgbm import LGBMRegressor\n",
    "from sklearn.model_selection import train_test_split\n",
    "from sklearn.metrics import r2_score, mean_squared_error\n",
    "from sklearn.preprocessing import StandardScaler\n",
    "\n",
    "import shelve\n",
    "import seaborn as sns\n",
    "import matplotlib.pyplot as plt\n",
    "import warnings\n",
    "%matplotlib inline\n",
    "sns.set()\n",
    "warnings.filterwarnings('ignore')"
   ]
  },
  {
   "cell_type": "code",
   "execution_count": 38,
   "id": "96dcaecc-2c3b-48e4-9b72-0ef22bc803e3",
   "metadata": {
    "tags": []
   },
   "outputs": [],
   "source": [
    "def shelf_read(filename):\n",
    "\n",
    "    my_shelf = shelve.open(filename)\n",
    "    for key in my_shelf:\n",
    "        print(key)\n",
    "        globals()[key]=my_shelf[key]\n",
    "    my_shelf.close()"
   ]
  },
  {
   "cell_type": "code",
   "execution_count": null,
   "id": "ac8b8631-3ec0-463b-bf4d-4fe351a41400",
   "metadata": {
    "tags": []
   },
   "outputs": [
    {
     "name": "stdout",
     "output_type": "stream",
     "text": [
      "SVR_Ridge_Lasso_SMAP\n",
      "grid_SVR\n",
      "model_Ridge\n",
      "model_Lasso\n",
      "model_LassoCV\n",
      "all_pred\n",
      "X_test\n",
      "y_test\n",
      "SVR_Ridge_Lasso_SMOS\n",
      "grid_SVR\n",
      "model_Ridge\n",
      "model_Lasso\n",
      "model_LassoCV\n",
      "all_pred\n",
      "X_test\n",
      "y_test\n",
      "SVR_Ridge_Lasso_AS\n",
      "grid_SVR\n",
      "model_Ridge\n",
      "model_Lasso\n",
      "model_LassoCV\n",
      "all_pred\n",
      "X_test\n",
      "y_test\n",
      "SVR_Ridge_Lasso_A2\n",
      "grid_SVR\n",
      "model_Ridge\n",
      "model_Lasso\n",
      "model_LassoCV\n",
      "all_pred\n",
      "X_test\n",
      "y_test\n"
     ]
    }
   ],
   "source": [
    "# save predicted values\n",
    "product_list = ['SMAP', 'SMOS', 'AS', 'A2']\n",
    "model_list = ['SVR_Ridge_Lasso','LGBM','XGB']\n",
    "\n",
    "for mi in range(0,4):\n",
    "    \n",
    "    model = model_list[mi]\n",
    "    \n",
    "    for pi in range(0,4):\n",
    "        \n",
    "        product = product_list[pi]\n",
    "        pr_file   = \"/home/hyung/Lab/data/DL_Error/\"+product+\"_selected_predictors.csv\"\n",
    "        pr_data   = pd.read_csv(pr_file)\n",
    "        pr_data.drop(columns=['ltype'], inplace=True)\n",
    "\n",
    "        selected_predictors = list(pr_data.columns.values)\n",
    "\n",
    "        all_predictors = pr_data.columns.values\n",
    "\n",
    "        # Standardize numeric/response columns, to mean 0 variance 1\n",
    "        pr_data_mean   = pr_data.mean()\n",
    "        pr_data_std    = pr_data.std()\n",
    "        pr_data_scaled = np.array((pr_data - pr_data_mean) / pr_data_std)\n",
    "\n",
    "        print(model+'_'+product)\n",
    "        ofp = '/home/hyung/Lab/libs/python/DL_Error_data/'+product\n",
    "        shelf_read(ofp+'_'+model+'.out')\n",
    "        \n",
    "        if mi == 0:\n",
    "            y_pred = grid_SVR.predict(pr_data_scaled)\n",
    "        else:\n",
    "            y_pred = grid.predict(pr_data_scaled)\n",
    "\n",
    "        ofp_result = '/home/hyung/Lab/libs/python/DL_Error_results/ML_model_predictions/'\n",
    "        np.savetxt(ofp_result+model_list[mi]+'_'+product_list[pi]+'.csv', y_pred, delimiter=',')"
   ]
  },
  {
   "cell_type": "code",
   "execution_count": 35,
   "id": "ecff7546-5afc-4ccd-a01c-9da4b89d64be",
   "metadata": {},
   "outputs": [],
   "source": [
    "\n"
   ]
  },
  {
   "cell_type": "code",
   "execution_count": 33,
   "id": "93dccbd9-28db-4e15-928f-dbddd10f96b6",
   "metadata": {},
   "outputs": [
    {
     "data": {
      "text/plain": [
       "(array([2.0000e+00, 9.0000e+00, 1.9700e+02, 3.3705e+04, 2.0618e+04,\n",
       "        4.2700e+02, 5.8000e+01, 1.2000e+01, 3.0000e+00, 1.0000e+00]),\n",
       " array([-0.78652946, -0.46610118, -0.1456729 ,  0.17475537,  0.49518365,\n",
       "         0.81561193,  1.13604021,  1.45646848,  1.77689676,  2.09732504,\n",
       "         2.41775332]),\n",
       " <BarContainer object of 10 artists>)"
      ]
     },
     "execution_count": 33,
     "metadata": {},
     "output_type": "execute_result"
    },
    {
     "data": {
      "image/png": "[encoded data removed]",
      "text/plain": [
       "<Figure size 432x288 with 1 Axes>"
      ]
     },
     "metadata": {},
     "output_type": "display_data"
    }
   ],
   "source": [
    "plt.hist(y_pred)"
   ]
  }
 ],
 "metadata": {
  "kernelspec": {
   "display_name": "Python 3",
   "language": "python",
   "name": "python3"
  },
  "language_info": {
   "codemirror_mode": {
    "name": "ipython",
    "version": 3
   },
   "file_extension": ".py",
   "mimetype": "text/x-python",
   "name": "python",
   "nbconvert_exporter": "python",
   "pygments_lexer": "ipython3",
   "version": "3.8.5"
  }
 },
 "nbformat": 4,
 "nbformat_minor": 5
}
